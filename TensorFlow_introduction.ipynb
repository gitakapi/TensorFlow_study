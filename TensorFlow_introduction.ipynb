{
 "cells": [
  {
   "cell_type": "markdown",
   "metadata": {},
   "source": [
    "# TensorFlow Introduction"
   ]
  },
  {
   "cell_type": "code",
   "execution_count": 1,
   "metadata": {},
   "outputs": [
    {
     "name": "stdout",
     "output_type": "stream",
     "text": [
      "42\n"
     ]
    }
   ],
   "source": [
    "import tensorflow as tf\n",
    "x = tf.Variable(3, name=\"x\")\n",
    "y = tf.Variable(4, name=\"y\")\n",
    "f = x*x*y + y + 2\n",
    "\n",
    "# sess = tf.Session()\n",
    "# sess.run(x.initializer)\n",
    "# sess.run(y.initializer)\n",
    "# result = sess.run(f)\n",
    "# print(result)\n",
    "# sess.close()\n",
    "\n",
    "init = tf.global_variables_initializer()\n",
    "# sess = tf.InteractiveSession() Jupyter の場合はこれ使うといいかもらしい\n",
    "\n",
    "with tf.Session() as sess:\n",
    "    init.run()\n",
    "    result = f.eval()\n",
    "    print(result)"
   ]
  },
  {
   "cell_type": "code",
   "execution_count": 2,
   "metadata": {},
   "outputs": [
    {
     "name": "stdout",
     "output_type": "stream",
     "text": [
      "10\n",
      "15\n"
     ]
    }
   ],
   "source": [
    "w = tf.constant(3) \n",
    "x=w+2 \n",
    "y=x+5 \n",
    "z=x*3\n",
    "\n",
    "with tf.Session() as sess:\n",
    "    print(y.eval())  # 10\n",
    "    print(z.eval())  # 15\n",
    "\n",
    "# こうしたら1回だけ評価\n",
    "# with tf.Session() as sess:\n",
    "#     y_val, z_val = sess.run([y, z])\n",
    "#     print(y_val)  # 10\n",
    "#     print(z_val)  # 15"
   ]
  },
  {
   "cell_type": "markdown",
   "metadata": {},
   "source": [
    "TensorFlow は自動的に y が x に依存し、x が w に依存することに気付き、 まず w、次に x、さらにその次に y を評価して、y の値を返す。最後に、コードは z を評価するグラ フを実行する。TensorFlow は、ここでまず w と x を評価しなければならないことに気付く。ここで大切なのは、w と x の前の評価結果を再利用しないことだ。つまり、上のコードは w と x を 2 回 評価している。\n",
    "\n",
    "シンプルプロセス TensorFlow と分散 TensorFlow とは？"
   ]
  },
  {
   "cell_type": "code",
   "execution_count": 3,
   "metadata": {},
   "outputs": [
    {
     "name": "stdout",
     "output_type": "stream",
     "text": [
      "[[-3.6894890e+01]\n",
      " [ 4.3661433e-01]\n",
      " [ 9.4453208e-03]\n",
      " [-1.0704148e-01]\n",
      " [ 6.4345831e-01]\n",
      " [-3.9632569e-06]\n",
      " [-3.7880042e-03]\n",
      " [-4.2093179e-01]\n",
      " [-4.3400639e-01]]\n"
     ]
    }
   ],
   "source": [
    "import numpy as np\n",
    "from sklearn.datasets import fetch_california_housing\n",
    "housing = fetch_california_housing()\n",
    "m, n = housing.data.shape\n",
    "housing_data_plus_bias = np.c_[np.ones((m, 1)), housing.data]\n",
    "X = tf.constant(housing_data_plus_bias, dtype=tf.float32, name=\"X\")\n",
    "y = tf.constant(housing.target.reshape(-1, 1), dtype=tf.float32, name=\"y\")\n",
    "XT = tf.transpose(X)\n",
    "theta = tf.matmul(tf.matmul(tf.matrix_inverse(tf.matmul(XT, X)), XT), y) # theta は正規方程式 (4章らしい)\n",
    "with tf.Session() as sess:\n",
    "    theta_value = theta.eval()\n",
    "    print(theta_value)"
   ]
  },
  {
   "cell_type": "markdown",
   "metadata": {},
   "source": [
    "上のコードは 2 次元配列を操作してカリフォル ニアの住宅価格データセット(2 章参照)に対する線形回帰を行う。このコードはまずデータセッ トをフェッチし、すべての訓練インスタンスにバイアス入力特徴量(x0 = 1)を追加する(すぐに挿入を行う NumPy を使っている)。次に、このデータとターゲットを格納する X と y のふたつ の TensorFlow 定数ノードを作る。そして、TensorFlow の行列演算を使って theta を定義する。"
   ]
  },
  {
   "cell_type": "markdown",
   "metadata": {},
   "source": [
    "### 9.6.1 \n",
    "\n",
    "- random_uniform() 関数は、NumPy の rand() 関数と同じように、与えられた形状と 値の範囲に基づいて無作為値を格納するテンソルを生成する。\n",
    "- assign() 関数は、変数に新しい値を代入するノードを作る。この場合は、バッチ勾配降 下法のステップ θ(next step) = θ − η∇θ MSE(θ) を実装している。\n",
    "- メインループは訓練ステップを何度も繰り返し(n_epochs 回)、100 回反復するたびに、 その時点での平均二乗誤差(mse)を表示する。MSE がだんだん小さくなるのがわかる。"
   ]
  },
  {
   "cell_type": "code",
   "execution_count": 17,
   "metadata": {},
   "outputs": [
    {
     "name": "stdout",
     "output_type": "stream",
     "text": [
      "Epoch 0 MSE = 4588443000000000.0\n",
      "Epoch 100 MSE = 4.680679e+19\n",
      "Epoch 200 MSE = 1.853788e+20\n",
      "Epoch 300 MSE = 4.1571806e+20\n",
      "Epoch 400 MSE = 7.3782416e+20\n",
      "Epoch 500 MSE = 1.1517039e+21\n",
      "Epoch 600 MSE = 1.6573614e+21\n",
      "Epoch 700 MSE = 2.2547909e+21\n",
      "Epoch 800 MSE = 2.9439932e+21\n",
      "Epoch 900 MSE = 3.7249675e+21\n"
     ]
    }
   ],
   "source": [
    "n_epochs = 1000\n",
    "learning_rate = 0.01\n",
    "# X = tf.constant(scaled_housing_data_plus_bias, dtype=tf.float32, name=\"X\")\n",
    "X = tf.constant(housing_data_plus_bias, dtype=tf.float32, name=\"X\")\n",
    "\n",
    "y = tf.constant(housing.target.reshape(-1, 1), dtype=tf.float32, name=\"y\")\n",
    "theta = tf.Variable(tf.random_uniform([n + 1, 1], -1.0, 1.0), name=\"theta\")\n",
    "y_pred = tf.matmul(X, theta, name=\"predictions\")\n",
    "error = y_pred - y\n",
    "mse = tf.reduce_mean(tf.square(error), name=\"mse\")\n",
    "# gradients = 2/m * tf.matmul(tf.transpose(X), error)\n",
    "# gradients = tf.gradients(mse, [theta])[0]\n",
    "\n",
    "# optimizer = tf.train.GradientDescentOptimizer(learning_rate=learning_rate)\n",
    "optimizer = tf.train.MomentumOptimizer(learning_rate=learning_rate, momentum=0.9)\n",
    "training_op = optimizer.minimize(mse)\n",
    "\n",
    "training_op = tf.assign(theta, theta - learning_rate * gradients)\n",
    "init = tf.global_variables_initializer()\n",
    "with tf.Session() as sess:\n",
    "    sess.run(init)\n",
    "    for epoch in range(n_epochs):\n",
    "        sess.run(training_op)\n",
    "        if epoch % 100 == 0:\n",
    "            print(\"Epoch\", epoch, \"MSE =\", mse.eval())\n",
    "            \n",
    "        best_theta = theta.eval()"
   ]
  },
  {
   "cell_type": "markdown",
   "metadata": {},
   "source": [
    "gradients() 関数は、入力としてオペレーション(この場合は mse)と変数リスト(この場 合は theta)を与えられると、ops(変数ごとにひとつずつ)のリストを作り、個々の変数に対応 する勾配を計算する。そのため、gradients ノードは、theta について MSE の勾配ベクトル を計算することになる。`どうでもいい`"
   ]
  },
  {
   "cell_type": "markdown",
   "metadata": {},
   "source": [
    "## 訓練アルゴリズムへのデータ供給\n",
    "\n",
    "ミニバッチ勾配降下法を実装するように前のコードを書き換えてみよう。たとえば、イテレー ションごとに X と y を次のミニバッチに入れ替えていかなければならないものとする。もっとも 簡単な方法は、プレースホルダーノードを使うものである。プレースホルダーノードは、実際には 計算を行わず、実行時に出力せよと指示したデータを出力するだけだという点で特殊なノードであ る。一般に、訓練中に TensorFlow に訓練データを渡すために使われる。実行時にプレースホル ダーのための値を指定しなければ、例外が起きる。プレースホルダーノードを作るためには、出力テンソルのデータ型を指定して placeholder() を呼び出さなければならない。形状を強制したい場合は、オプションで形状も指定できる。次数と して None を指定した場合、「任意のサイズ」という意味になる。たとえば、次のコードは、A と いうプレースホルダーノードを作り、B = A + 5というノードも作る。Bを評価するときにAの 値を指定する feed_dict を eval() に渡す。A はランク 2 でなければならず(つまり 2 次元でなければならない)、3 つの列がなければならない(そうでなければ例外が生成される)。しかし、行数はいくつでもよい。"
   ]
  },
  {
   "cell_type": "code",
   "execution_count": 18,
   "metadata": {},
   "outputs": [
    {
     "name": "stdout",
     "output_type": "stream",
     "text": [
      "[[6. 7. 8.]]\n",
      "[[ 9. 10. 11.]\n",
      " [12. 13. 14.]]\n"
     ]
    }
   ],
   "source": [
    "A = tf.placeholder(tf.float32, shape=(None, 3))\n",
    "B = A + 5\n",
    "with tf.Session() as sess:\n",
    "    B_val_1 = B.eval(feed_dict={A: [[1, 2, 3]]})\n",
    "    B_val_2 = B.eval(feed_dict={A: [[4, 5, 6], [7, 8, 9]]})\n",
    "    print(B_val_1)\n",
    "    print(B_val_2)"
   ]
  },
  {
   "cell_type": "markdown",
   "metadata": {},
   "source": [
    "ミニバッチ勾配降下法は、既存のコードを少し書き換えるだけで実装できる。まず、構築フェー ズの X と y を書き換え、プレースホルダーノードを作らせるようにする。"
   ]
  },
  {
   "cell_type": "raw",
   "metadata": {},
   "source": [
    "X = tf.placeholder(tf.float32, shape=(None, n + 1), name=\"X\")\n",
    "y = tf.placeholder(tf.float32, shape=(None, 1), name=\"y\")"
   ]
  },
  {
   "cell_type": "markdown",
   "metadata": {},
   "source": [
    "次に、バッチサイズを定義し、バッチの総数を計算する。"
   ]
  },
  {
   "cell_type": "raw",
   "metadata": {},
   "source": [
    "batch_size = 100\n",
    "n_batches = int(np.ceil(m / batch_size)) "
   ]
  },
  {
   "cell_type": "markdown",
   "metadata": {},
   "source": [
    "最後に、実行フェーズでミニバッチをひとつずつ取り出し、X か y に依存するノードを評価する ときに、feed_dict パラメータを介して X、y の値を与える"
   ]
  },
  {
   "cell_type": "raw",
   "metadata": {},
   "source": [
    "def fetch_batch(epoch, batch_index, batch_size):\n",
    "    [....] # データロード\n",
    "    return X_batch, y_batch\n",
    "    \n",
    "with tf.Session() as sess:\n",
    "    sess.run(init)\n",
    "    \n",
    "    for epoch in range(n_epochs):\n",
    "        for batch_index in range(n_batches):\n",
    "        X_batch, y_batch = fetch_batch(epoch, batch_index, batch_size)\n",
    "        sess.run(training_op, feed_dict={X:x_batch, y:y_batch})\n",
    "        \n",
    "    best_theta = theta.eval()"
   ]
  }
 ],
 "metadata": {
  "kernelspec": {
   "display_name": "Python 3",
   "language": "python",
   "name": "python3"
  },
  "language_info": {
   "codemirror_mode": {
    "name": "ipython",
    "version": 3
   },
   "file_extension": ".py",
   "mimetype": "text/x-python",
   "name": "python",
   "nbconvert_exporter": "python",
   "pygments_lexer": "ipython3",
   "version": "3.7.3"
  }
 },
 "nbformat": 4,
 "nbformat_minor": 2
}
