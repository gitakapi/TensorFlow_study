{
 "cells": [
  {
   "cell_type": "markdown",
   "metadata": {},
   "source": [
    "# シンプルな3層のCNNを実装する"
   ]
  },
  {
   "cell_type": "markdown",
   "metadata": {},
   "source": [
    "Tensorflowの関数を使い、2層の畳み込み→Relu→Max Poolingと、1層の全層結合を実装してmnistに対して精度を検証します。"
   ]
  },
  {
   "cell_type": "markdown",
   "metadata": {},
   "source": [
    "# 事前作業\n",
    "\n",
    "必要なライブラリをインポートします。"
   ]
  },
  {
   "cell_type": "code",
   "execution_count": 1,
   "metadata": {},
   "outputs": [],
   "source": [
    "import matplotlib.pyplot as plt\n",
    "import numpy as np\n",
    "import tensorflow as tf\n",
    "from tensorflow.contrib.learn.python.learn.datasets.mnist import read_data_sets"
   ]
  },
  {
   "cell_type": "markdown",
   "metadata": {},
   "source": [
    "セッションの生成"
   ]
  },
  {
   "cell_type": "code",
   "execution_count": 2,
   "metadata": {},
   "outputs": [],
   "source": [
    "sess = tf.Session()"
   ]
  },
  {
   "cell_type": "markdown",
   "metadata": {},
   "source": [
    "mnistデータセットの読み込み"
   ]
  },
  {
   "cell_type": "code",
   "execution_count": 20,
   "metadata": {},
   "outputs": [
    {
     "name": "stdout",
     "output_type": "stream",
     "text": [
      "Extracting temp/train-images-idx3-ubyte.gz\n",
      "Extracting temp/train-labels-idx1-ubyte.gz\n",
      "Extracting temp/t10k-images-idx3-ubyte.gz\n",
      "Extracting temp/t10k-labels-idx1-ubyte.gz\n"
     ]
    }
   ],
   "source": [
    "data_dir = 'temp'\n",
    "mnist = read_data_sets(data_dir)"
   ]
  },
  {
   "cell_type": "markdown",
   "metadata": {},
   "source": [
    "取得したトレーニングデータの形状を確認します。"
   ]
  },
  {
   "cell_type": "code",
   "execution_count": 4,
   "metadata": {},
   "outputs": [
    {
     "data": {
      "text/plain": [
       "(784,)"
      ]
     },
     "execution_count": 4,
     "metadata": {},
     "output_type": "execute_result"
    }
   ],
   "source": [
    "mnist.train.images[0].shape"
   ]
  },
  {
   "cell_type": "markdown",
   "metadata": {},
   "source": [
    "合わせてラベル（正解データ）も確認します。"
   ]
  },
  {
   "cell_type": "code",
   "execution_count": 5,
   "metadata": {},
   "outputs": [
    {
     "data": {
      "text/plain": [
       "7"
      ]
     },
     "execution_count": 5,
     "metadata": {},
     "output_type": "execute_result"
    }
   ],
   "source": [
    "mnist.train.labels[0]"
   ]
  },
  {
   "cell_type": "markdown",
   "metadata": {},
   "source": [
    "### 問1 取得したトレーニングデータから画像をピックアップし、確認してください。"
   ]
  },
  {
   "cell_type": "code",
   "execution_count": 6,
   "metadata": {},
   "outputs": [
    {
     "data": {
      "image/png": "[encoded data removed]",
      "text/plain": [
       "<Figure size 432x288 with 1 Axes>"
      ]
     },
     "metadata": {
      "needs_background": "light"
     },
     "output_type": "display_data"
    }
   ],
   "source": [
    "img = np.reshape(mnist.train.images[0], (28, 28))\n",
    "plt.imshow(img, cmap='gray')\n",
    "plt.show()"
   ]
  },
  {
   "cell_type": "markdown",
   "metadata": {},
   "source": [
    "### 問2 np.reshapeを用い、画像を (784,)から(28,28)に変換してください"
   ]
  },
  {
   "cell_type": "code",
   "execution_count": 7,
   "metadata": {},
   "outputs": [
    {
     "name": "stdout",
     "output_type": "stream",
     "text": [
      "(55000, 28, 28, 1)\n"
     ]
    },
    {
     "data": {
      "image/png": "[encoded data removed]",
      "text/plain": [
       "<Figure size 432x288 with 1 Axes>"
      ]
     },
     "metadata": {
      "needs_background": "light"
     },
     "output_type": "display_data"
    }
   ],
   "source": [
    "train_x = np.reshape(mnist.train.images, (55000, 28, 28, 1))\n",
    "print(train_x.shape)\n",
    "plt.imshow(train_x[0, :, :, 0], cmap='gray');"
   ]
  },
  {
   "cell_type": "markdown",
   "metadata": {},
   "source": [
    "ラベルデータを変数train_Yに格納します。"
   ]
  },
  {
   "cell_type": "code",
   "execution_count": 8,
   "metadata": {},
   "outputs": [],
   "source": [
    "train_y = mnist.train.labels"
   ]
  },
  {
   "cell_type": "markdown",
   "metadata": {},
   "source": [
    "プレースホルダを作成します。"
   ]
  },
  {
   "cell_type": "code",
   "execution_count": 9,
   "metadata": {},
   "outputs": [],
   "source": [
    "batch_size = 100\n",
    "x_input = tf.placeholder(tf.float32, shape=(batch_size, 28, 28, 1))\n",
    "y_target = tf.placeholder(tf.float32, shape=(batch_size))"
   ]
  },
  {
   "cell_type": "markdown",
   "metadata": {},
   "source": [
    "### 問3 CNNの構築"
   ]
  },
  {
   "cell_type": "markdown",
   "metadata": {},
   "source": [
    "* 1層目のCNN・・・フィルタ数:25、フィルタサイズ：4、ストライド：(1,1)、ゼロパディングなし('SAME')\n",
    "\n",
    "* 2層目のCNN・・・フィルタ数:50、フィルタサイズ：4、ストライド：(1,1)、ゼロパディングなし('SAME')\n",
    "\n",
    "とし、 `tf.layers.conv2d` および `tf.layers.max_pooling2d` を使って2層のCNNを作成してください。"
   ]
  },
  {
   "cell_type": "code",
   "execution_count": 10,
   "metadata": {},
   "outputs": [],
   "source": [
    "learning_rate = 0.005\n",
    "filter_size = 4\n",
    "conv1_filters = 25\n",
    "conv2_filters = 50\n",
    "max_pool_size1 = 2\n",
    "max_pool_size2 = 2"
   ]
  },
  {
   "cell_type": "code",
   "execution_count": 21,
   "metadata": {},
   "outputs": [
    {
     "name": "stdout",
     "output_type": "stream",
     "text": [
      "(?, 28, 28, 25)\n",
      "(?, 14, 14, 25)\n",
      "(?, 14, 14, 50)\n"
     ]
    }
   ],
   "source": [
    "conv1 = tf.layers.conv2d(inputs=x_input, filters=conv1_filters, kernel_size=filter_size, strides=(1, 1), padding=\"same\", activation=tf.nn.relu)\n",
    "print(conv1.shape)\n",
    "pool_1 = tf.layers.max_pooling2d(conv1, max_pool_size1, strides=(2, 2), padding='same', data_format='channels_last')\n",
    "print(pool_1.shape)\n",
    "\n",
    "conv2 = tf.layers.conv2d(inputs=pool_1, filters=conv2_filters, kernel_size=filter_size, strides=(1, 1), padding=\"same\", activation=tf.nn.relu)\n",
    "print(conv2.shape)\n",
    "\n",
    "pool_2 = tf.layers.max_pooling2d(conv2, max_pool_size2, strides=(2, 2), padding='same', data_format='channels_last')"
   ]
  },
  {
   "cell_type": "markdown",
   "metadata": {},
   "source": [
    "### 問4 pool_2の形状を確認してください"
   ]
  },
  {
   "cell_type": "code",
   "execution_count": 12,
   "metadata": {},
   "outputs": [
    {
     "name": "stdout",
     "output_type": "stream",
     "text": [
      "(100, 7, 7, 50)\n"
     ]
    }
   ],
   "source": [
    "print(pool_2.shape)"
   ]
  },
  {
   "cell_type": "markdown",
   "metadata": {},
   "source": [
    "### 問5  pool_2を2次元の形状に変換してください。ただし1次元はバッチサイズとします。"
   ]
  },
  {
   "cell_type": "markdown",
   "metadata": {},
   "source": [
    "変換後のサイズは(100,2450)となります。"
   ]
  },
  {
   "cell_type": "code",
   "execution_count": 13,
   "metadata": {},
   "outputs": [],
   "source": [
    "flat = tf.reshape(pool_2, [100, 2450])"
   ]
  },
  {
   "cell_type": "markdown",
   "metadata": {},
   "source": [
    "### 問6 問5にて2次元に変換したものを入力とし、出力が10となる全層結合層を作成してください。"
   ]
  },
  {
   "cell_type": "markdown",
   "metadata": {},
   "source": [
    "結果は(100,10)となります。"
   ]
  },
  {
   "cell_type": "code",
   "execution_count": 22,
   "metadata": {},
   "outputs": [],
   "source": [
    "logits = tf.layers.dense(flat,10, activation=tf.nn.relu)"
   ]
  },
  {
   "cell_type": "markdown",
   "metadata": {},
   "source": [
    "交差エントロピー誤差を求めます。"
   ]
  },
  {
   "cell_type": "code",
   "execution_count": 23,
   "metadata": {},
   "outputs": [],
   "source": [
    "loss = tf.losses.sparse_softmax_cross_entropy(labels=tf.cast(y_target, dtype=tf.int32), logits=logits)"
   ]
  },
  {
   "cell_type": "markdown",
   "metadata": {},
   "source": [
    "### 問7 TensorFlowのAPIには sparse_softmax_cross_entropyのほかにsoftmax_cross_entropyがあります。両者の違いを述べてください。\n",
    "\n",
    "**sparse_softmax_cross_entropy**  \n",
    "sparse(疎な)の名の通り, 入力を自動で one-hot ベクトルにする.\n",
    "\n",
    "**softmax_cross_entropy**  \n",
    "one-hot ベクトルにしない."
   ]
  },
  {
   "cell_type": "markdown",
   "metadata": {},
   "source": [
    "### 問8 モーメンタムオプティマイザを指定し、誤差を最小化するグラフを作成してください。"
   ]
  },
  {
   "cell_type": "code",
   "execution_count": 16,
   "metadata": {},
   "outputs": [],
   "source": [
    "optimizer = tf.train.MomentumOptimizer(momentum=0.9 ,learning_rate=learning_rate)\n",
    "train_op = optimizer.minimize(loss)"
   ]
  },
  {
   "cell_type": "markdown",
   "metadata": {},
   "source": [
    "### 問9 softmax関数を使用し、logitsから予測値を導き出してください。"
   ]
  },
  {
   "cell_type": "code",
   "execution_count": 17,
   "metadata": {},
   "outputs": [],
   "source": [
    "init = tf.global_variables_initializer()\n",
    "sess.run(init)\n",
    "\n",
    "rand_index = np.random.choice(55000, 100)\n",
    "rand_x = train_x[rand_index]\n",
    "rand_y = train_y[rand_index]\n",
    "\n",
    "sess.run(train_op, feed_dict={x_input:rand_x, y_target:rand_y})"
   ]
  },
  {
   "cell_type": "markdown",
   "metadata": {},
   "source": [
    "# グラフの実行"
   ]
  },
  {
   "cell_type": "markdown",
   "metadata": {},
   "source": [
    "グラフの初期化を行います。"
   ]
  },
  {
   "cell_type": "raw",
   "metadata": {},
   "source": [
    "sess.run(tf.global_variables_initializer())"
   ]
  },
  {
   "cell_type": "markdown",
   "metadata": {},
   "source": [
    "### 問10 イテレーション回数を1000とし、20回ごとに損失を表示するトレーニングを実行してください。"
   ]
  },
  {
   "cell_type": "code",
   "execution_count": 18,
   "metadata": {
    "scrolled": true
   },
   "outputs": [
    {
     "name": "stdout",
     "output_type": "stream",
     "text": [
      "Loss #20 loss = 2.2455997\n",
      "Loss #40 loss = 2.1596777\n",
      "Loss #60 loss = 2.0258303\n",
      "Loss #80 loss = 1.8632847\n",
      "Loss #100 loss = 1.6257412\n"
     ]
    }
   ],
   "source": [
    "for i in range(100):\n",
    "    rand_index = np.random.choice(55000, batch_size)\n",
    "    batch_xs = train_x[rand_index]\n",
    "    batch_ys = train_y[rand_index]\n",
    "    sess.run(train_op, feed_dict={x_input: batch_xs, y_target: batch_ys})\n",
    "\n",
    "    if (i+1) % 20 == 0:\n",
    "        print('Loss #'+str(i+1)+\" loss = \"+str(sess.run(loss, feed_dict={x_input:rand_x, y_target:rand_y})))"
   ]
  },
  {
   "cell_type": "markdown",
   "metadata": {},
   "source": [
    "### 問12  訓練データで訓練後、テストデータを与えて精度を確認してください。さらに、データセットからランダムに値をピックアップし、学習結果が正しいかどうかを検証してください。"
   ]
  },
  {
   "cell_type": "markdown",
   "metadata": {},
   "source": [
    "ただし、x_input, y_targetともにバッチサイズ100に固定した形でplaceholderを作ったため、検証データもサイズが100でないとエラーとなります。\n",
    "\n",
    "placeholderのshapeタプル内のbatchsizeをNone（無指定）に変更して再トレーニングする必要があります。"
   ]
  },
  {
   "cell_type": "code",
   "execution_count": 19,
   "metadata": {},
   "outputs": [
    {
     "name": "stdout",
     "output_type": "stream",
     "text": [
      "Extracting temp/train-images-idx3-ubyte.gz\n",
      "Extracting temp/train-labels-idx1-ubyte.gz\n",
      "Extracting temp/t10k-images-idx3-ubyte.gz\n",
      "Extracting temp/t10k-labels-idx1-ubyte.gz\n",
      "正解ラベル # [8 1 1]\n",
      "1枚目\n"
     ]
    },
    {
     "data": {
      "image/png": "[encoded data removed]",
      "text/plain": [
       "<Figure size 432x288 with 1 Axes>"
      ]
     },
     "metadata": {
      "needs_background": "light"
     },
     "output_type": "display_data"
    },
    {
     "name": "stdout",
     "output_type": "stream",
     "text": [
      "2枚目\n"
     ]
    },
    {
     "data": {
      "image/png": "[encoded data removed]",
      "text/plain": [
       "<Figure size 432x288 with 1 Axes>"
      ]
     },
     "metadata": {
      "needs_background": "light"
     },
     "output_type": "display_data"
    },
    {
     "name": "stdout",
     "output_type": "stream",
     "text": [
      "3枚目\n"
     ]
    },
    {
     "data": {
      "image/png": "[encoded data removed]",
      "text/plain": [
       "<Figure size 432x288 with 1 Axes>"
      ]
     },
     "metadata": {
      "needs_background": "light"
     },
     "output_type": "display_data"
    },
    {
     "name": "stdout",
     "output_type": "stream",
     "text": [
      "Loss # 20 loss = 2.214501\n",
      "Loss # 40 loss = 1.9586554\n",
      "Loss # 60 loss = 1.1273932\n",
      "Loss # 80 loss = 0.53745776\n",
      "Loss # 100 loss = 0.43435585\n",
      "Loss # 120 loss = 0.40456527\n",
      "Loss # 140 loss = 0.3972853\n",
      "Loss # 160 loss = 0.36159906\n",
      "Loss # 180 loss = 0.28956926\n",
      "Loss # 200 loss = 0.18390955\n",
      "Loss # 220 loss = 0.37845135\n",
      "Loss # 240 loss = 0.28296134\n",
      "Loss # 260 loss = 0.19092146\n",
      "Loss # 280 loss = 0.2548842\n",
      "Loss # 300 loss = 0.24414101\n",
      "Loss # 320 loss = 0.21681546\n",
      "Loss # 340 loss = 0.26167879\n",
      "Loss # 360 loss = 0.18193778\n",
      "Loss # 380 loss = 0.113713846\n",
      "Loss # 400 loss = 0.15751645\n",
      "Loss # 420 loss = 0.26150888\n",
      "Loss # 440 loss = 0.14873594\n",
      "Loss # 460 loss = 0.15561007\n",
      "Loss # 480 loss = 0.19761653\n",
      "Loss # 500 loss = 0.2382841\n",
      "Loss # 520 loss = 0.13660452\n",
      "Loss # 540 loss = 0.2515588\n",
      "Loss # 560 loss = 0.12680583\n",
      "Loss # 580 loss = 0.1018495\n",
      "Loss # 600 loss = 0.23752004\n",
      "Loss # 620 loss = 0.17540659\n",
      "Loss # 640 loss = 0.13016225\n",
      "Loss # 660 loss = 0.23728842\n",
      "Loss # 680 loss = 0.174106\n",
      "Loss # 700 loss = 0.066381104\n",
      "Loss # 720 loss = 0.13378815\n",
      "Loss # 740 loss = 0.0884842\n",
      "Loss # 760 loss = 0.12654431\n",
      "Loss # 780 loss = 0.09006733\n",
      "Loss # 800 loss = 0.16907068\n",
      "Loss # 820 loss = 0.1698545\n",
      "Loss # 840 loss = 0.07361047\n",
      "Loss # 860 loss = 0.16250558\n",
      "Loss # 880 loss = 0.07158267\n",
      "Loss # 900 loss = 0.06900427\n",
      "Loss # 920 loss = 0.13358645\n",
      "Loss # 940 loss = 0.10239697\n",
      "Loss # 960 loss = 0.104146585\n",
      "Loss # 980 loss = 0.080611534\n",
      "Loss # 1000 loss = 0.0620936\n",
      "test accuracy0.971\n",
      "予測した正解ラベル # [8 1 1]\n"
     ]
    }
   ],
   "source": [
    "import matplotlib.pyplot as plt\n",
    "import numpy as np\n",
    "import tensorflow as tf\n",
    "from tensorflow.contrib.learn.python.learn.datasets.mnist import read_data_sets\n",
    "\n",
    "# データ読み込み\n",
    "data_dir = 'temp'\n",
    "mnist = read_data_sets(data_dir)\n",
    "\n",
    "# プレースホルダーを用意\n",
    "x_input = tf.placeholder(tf.float32, shape=(None, 28, 28, 1))\n",
    "y_target = tf.placeholder(tf.int64, shape=(None))\n",
    "\n",
    "# 初期設定\n",
    "batch_size = 100\n",
    "learning_rate = 0.005\n",
    "filter_size = 4\n",
    "conv1_filters = 25\n",
    "conv2_filters = 50\n",
    "max_pool_size1 = 2\n",
    "max_pool_size2 = 2\n",
    "\n",
    "# 畳み込み①→プーリング①→畳み込み②→プーリング②\n",
    "conv1 = tf.layers.conv2d(inputs=x_input, filters=conv1_filters, kernel_size=filter_size, strides=(1, 1), padding=\"same\", activation=tf.nn.relu)\n",
    "pool_1 = tf.layers.max_pooling2d(conv1, max_pool_size1, strides=(2, 2), padding='same', data_format='channels_last')\n",
    "conv2 = tf.layers.conv2d(inputs=pool_1, filters=conv2_filters, kernel_size=filter_size, strides=(1, 1), padding=\"same\", activation=tf.nn.relu)\n",
    "pool_2 = tf.layers.max_pooling2d(conv2, max_pool_size2, strides=(2, 2), padding='same', data_format='channels_last')\n",
    "\n",
    "# プーリング②からの出力を2次元配列にして全結合層へ\n",
    "flat = tf.reshape(pool_2, [-1, 2450])\n",
    "logits = tf.layers.dense(flat,10)\n",
    "\n",
    "# 損失関数の定義\n",
    "loss = tf.losses.sparse_softmax_cross_entropy(labels=tf.cast(y_target, dtype=tf.int32), logits=logits)\n",
    "\n",
    "# オプティマイザの指定\n",
    "optimizer = tf.train.MomentumOptimizer(momentum=0.9 ,learning_rate=learning_rate)\n",
    "train_op = optimizer.minimize(loss)\n",
    "\n",
    "# 精度の算出\n",
    "correct_prediction = tf.equal(tf.argmax(logits, 1), tf.argmax(y_target, 1))\n",
    "accuracy = tf.reduce_mean(tf.cast(correct_prediction, 'float'))\n",
    "\n",
    "# テストデータの準備\n",
    "test_x = np.reshape(mnist.test.images, (10000, 28, 28, 1))\n",
    "test_y_one_hot = np.identity(10)[mnist.test.labels]\n",
    "\n",
    "# サンプルデータの準備\n",
    "sample_n = 3\n",
    "sample_id = np.random.choice(55000, sample_n)\n",
    "sample_x = np.reshape(mnist.train.images[sample_id], (sample_n, 28, 28, 1))\n",
    "sample_y = mnist.train.labels[sample_id]\n",
    "sample_y_one_hot = np.identity(10)[sample_y]\n",
    "\n",
    "print('正解ラベル # ' + str(sample_y))\n",
    "\n",
    "# サンプルデータを画像に\n",
    "sample_imgs = np.reshape(mnist.train.images[sample_id], (sample_n, 28, 28)) \n",
    "for i in range(sample_n):\n",
    "    img = sample_imgs[i]\n",
    "    print(str(i+1) + '枚目') \n",
    "    plt.imshow(img, cmap='gray')\n",
    "    plt.show()\n",
    "\n",
    "# セッション初期化\n",
    "init = tf.global_variables_initializer()\n",
    "with tf.Session() as sess:\n",
    "    init.run()\n",
    "    # イテレーションを1000回として学習\n",
    "    for iteration in range(1000):\n",
    "            X_batch, y_batch = mnist.train.next_batch(batch_size)\n",
    "            X_batch = np.reshape(X_batch, (batch_size, 28, 28, 1))\n",
    "            sess.run(train_op, feed_dict={x_input: X_batch, y_target: y_batch})\n",
    "            \n",
    "            # 20回ごとに損失関数の値を表示\n",
    "            if (iteration+1) % 20 == 0:\n",
    "                print('Loss # '+str(iteration+1)+\" loss = \"+str(sess.run(loss, feed_dict={x_input:X_batch, y_target:y_batch})))\n",
    "    \n",
    "    # テストデータで精度を算出\n",
    "    print ('test accuracy' +str(accuracy.eval(feed_dict={x_input: test_x, y_target: test_y_one_hot})))\n",
    "    print ('予測した正解ラベル # ' +str(sess.run(tf.argmax(logits, 1), feed_dict={x_input:sample_x, y_target:sample_y})))"
   ]
  },
  {
   "cell_type": "code",
   "execution_count": null,
   "metadata": {},
   "outputs": [],
   "source": []
  }
 ],
 "metadata": {
  "kernelspec": {
   "display_name": "Python 3",
   "language": "python",
   "name": "python3"
  },
  "language_info": {
   "codemirror_mode": {
    "name": "ipython",
    "version": 3
   },
   "file_extension": ".py",
   "mimetype": "text/x-python",
   "name": "python",
   "nbconvert_exporter": "python",
   "pygments_lexer": "ipython3",
   "version": "3.7.3"
  }
 },
 "nbformat": 4,
 "nbformat_minor": 2
}
